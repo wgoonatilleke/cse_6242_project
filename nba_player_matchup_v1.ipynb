{
 "cells": [
  {
   "cell_type": "code",
   "execution_count": 24,
   "id": "90ee6b8d",
   "metadata": {},
   "outputs": [],
   "source": [
    "import pandas as pd\n",
    "import re"
   ]
  },
  {
   "cell_type": "code",
   "execution_count": 25,
   "id": "653c24af",
   "metadata": {},
   "outputs": [],
   "source": [
    "ps = pd.read_csv(\"player_stats_final.csv\")"
   ]
  },
  {
   "cell_type": "code",
   "execution_count": 26,
   "id": "1f2e1f76",
   "metadata": {},
   "outputs": [
    {
     "data": {
      "text/plain": [
       "(1905, 94)"
      ]
     },
     "execution_count": 26,
     "metadata": {},
     "output_type": "execute_result"
    }
   ],
   "source": [
    "ps.shape"
   ]
  },
  {
   "cell_type": "code",
   "execution_count": 27,
   "id": "f043c039",
   "metadata": {},
   "outputs": [],
   "source": [
    "ps = ps.dropna(subset=['HEIGHT'])"
   ]
  },
  {
   "cell_type": "code",
   "execution_count": 28,
   "id": "33aa0cbe",
   "metadata": {},
   "outputs": [],
   "source": [
    "ps['HEIGHT'] = ps['HEIGHT'].apply(lambda x: re.sub('\\-','.',x))"
   ]
  },
  {
   "cell_type": "code",
   "execution_count": 29,
   "id": "ad4d6175",
   "metadata": {},
   "outputs": [],
   "source": [
    "ps['HEIGHT'] = pd.to_numeric(ps['HEIGHT'])"
   ]
  },
  {
   "cell_type": "code",
   "execution_count": 30,
   "id": "32f2f2ec",
   "metadata": {},
   "outputs": [
    {
     "data": {
      "text/plain": [
       "array([[<AxesSubplot:title={'center':'HEIGHT'}>]], dtype=object)"
      ]
     },
     "execution_count": 30,
     "metadata": {},
     "output_type": "execute_result"
    },
    {
     "data": {
      "image/png": "[encoded data removed]",
      "text/plain": [
       "<Figure size 432x288 with 1 Axes>"
      ]
     },
     "metadata": {
      "needs_background": "light"
     },
     "output_type": "display_data"
    }
   ],
   "source": [
    "ps.hist(column='HEIGHT')"
   ]
  },
  {
   "cell_type": "code",
   "execution_count": null,
   "id": "56f9acd9",
   "metadata": {},
   "outputs": [],
   "source": []
  }
 ],
 "metadata": {
  "kernelspec": {
   "display_name": "Python 3",
   "language": "python",
   "name": "python3"
  },
  "language_info": {
   "codemirror_mode": {
    "name": "ipython",
    "version": 3
   },
   "file_extension": ".py",
   "mimetype": "text/x-python",
   "name": "python",
   "nbconvert_exporter": "python",
   "pygments_lexer": "ipython3",
   "version": "3.8.8"
  }
 },
 "nbformat": 4,
 "nbformat_minor": 5
}
